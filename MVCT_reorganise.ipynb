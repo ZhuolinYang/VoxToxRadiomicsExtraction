{
 "cells": [
  {
   "cell_type": "code",
   "execution_count": null,
   "metadata": {},
   "outputs": [],
   "source": [
    "import os\n",
    "import numpy as np\n",
    "import pandas as pd\n",
    "import shutil\n",
    "import pydicom as dicom"
   ]
  },
  {
   "cell_type": "code",
   "execution_count": null,
   "metadata": {},
   "outputs": [],
   "source": [
    "path = 'MVCT'\n",
    "\n",
    "patients = []\n",
    "for folder in os.listdir(path):\n",
    "    if '.ipynb' not in folder:\n",
    "        if '.DS_Store' not in folder:\n",
    "            patients.append(folder)\n",
    "            \n",
    "len(patients)"
   ]
  },
  {
   "cell_type": "code",
   "execution_count": null,
   "metadata": {},
   "outputs": [],
   "source": [
    "# iterate over patients\n",
    "for i in range(len(patients)):\n",
    "    MVCT_entry = path + '/' + patients[i] + '/MVCT'\n",
    "    Struct_entry = path + '/' + patients[i] + '/MVCT 2'\n",
    "    FRAC = []\n",
    "    for folder in os.listdir(MVCT_entry):\n",
    "        if '.' not in folder:\n",
    "            FRAC.append(folder)\n",
    "    \n",
    "    # iterate over fractions\n",
    "    for j in range(len(FRAC)):\n",
    "        frac_ima_entry = MVCT_entry + '/' + FRAC[j]\n",
    "        frac_struct_entry = Struct_entry + '/' + FRAC[j][0:15]\n",
    "        struct = []\n",
    "        for file in os.listdir(frac_struct_entry):\n",
    "            if '.ipynb' not in file:\n",
    "                if '.DS_Store' not in file:\n",
    "                    if '20171130' in file: \n",
    "                        struct.append(file)\n",
    "                        if len(struct) > 1:\n",
    "                            print(f'Warning: more than 1 20171130 structure for {frac_ima_entry}')\n",
    "                        elif len(struct) == 1:\n",
    "                            print(patients[i], FRAC[j], struct[0])\n",
    "                            shutil.move(frac_struct_entry + '/' + struct[0], frac_ima_entry)\n",
    "        if struct == []:\n",
    "                print(f'Warning: no 20171130 structure for {frac_ima_entry}')\n",
    "                        \n",
    "    "
   ]
  },
  {
   "cell_type": "code",
   "execution_count": null,
   "metadata": {},
   "outputs": [],
   "source": [
    "for i in range(len(patients)):\n",
    "    target_path = 'MVCT' + '/' + patients[i] + '/' + 'MVCT 2'\n",
    "    shutil.rmtree(target_path)"
   ]
  },
  {
   "cell_type": "code",
   "execution_count": null,
   "metadata": {},
   "outputs": [],
   "source": []
  },
  {
   "cell_type": "markdown",
   "metadata": {},
   "source": [
    "# Combine CT and MVCT in the same patient folder"
   ]
  },
  {
   "cell_type": "code",
   "execution_count": null,
   "metadata": {},
   "outputs": [],
   "source": [
    "pwd"
   ]
  },
  {
   "cell_type": "code",
   "execution_count": null,
   "metadata": {},
   "outputs": [],
   "source": [
    "for i in range(len(patients)):\n",
    "    p = path + '/' + patients[i]\n",
    "    os.makedirs(p + '/CT')"
   ]
  },
  {
   "cell_type": "code",
   "execution_count": null,
   "metadata": {},
   "outputs": [],
   "source": [
    "for i in range(len(patients)):\n",
    "    source = '/Users/zhuolin/Desktop/VoxTox_Prostate_reorganised/VoxTox_Prostate_consolidation/CT'\n",
    "    files = os.listdir(source + '/' + patients[i])\n",
    "    if '.ipynb_checkpoints' in files:\n",
    "        files.remove('.ipynb_checkpoints')\n",
    "    for j in range(len(files)):\n",
    "        shutil.copy(source + '/' + patients[i] + '/' + files[j], path + '/' + patients[i] + '/CT')\n",
    "        \n",
    "    "
   ]
  },
  {
   "cell_type": "code",
   "execution_count": null,
   "metadata": {},
   "outputs": [],
   "source": []
  },
  {
   "cell_type": "code",
   "execution_count": null,
   "metadata": {},
   "outputs": [],
   "source": []
  },
  {
   "cell_type": "code",
   "execution_count": null,
   "metadata": {},
   "outputs": [],
   "source": []
  },
  {
   "cell_type": "code",
   "execution_count": null,
   "metadata": {},
   "outputs": [],
   "source": []
  }
 ],
 "metadata": {
  "kernelspec": {
   "display_name": "Python 3",
   "language": "python",
   "name": "python3"
  },
  "language_info": {
   "codemirror_mode": {
    "name": "ipython",
    "version": 3
   },
   "file_extension": ".py",
   "mimetype": "text/x-python",
   "name": "python",
   "nbconvert_exporter": "python",
   "pygments_lexer": "ipython3",
   "version": "3.8.5"
  }
 },
 "nbformat": 4,
 "nbformat_minor": 4
}
